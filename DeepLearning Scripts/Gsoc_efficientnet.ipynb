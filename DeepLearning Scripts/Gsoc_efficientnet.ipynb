{
  "nbformat": 4,
  "nbformat_minor": 0,
  "metadata": {
    "colab": {
      "name": "Gsoc_efficientnet.ipynb",
      "provenance": [],
      "collapsed_sections": []
    },
    "kernelspec": {
      "display_name": "Python 3",
      "name": "python3"
    },
    "language_info": {
      "name": "python"
    },
    "accelerator": "GPU"
  },
  "cells": [
    {
      "cell_type": "markdown",
      "metadata": {
        "id": "J7B9y95nIYI4"
      },
      "source": [
        "Taking the datframes and putting .png in place of .tif"
      ]
    },
    {
      "cell_type": "code",
      "metadata": {
        "id": "pqCdfOIZGCE-"
      },
      "source": [
        "import os\n",
        "import pandas as pd\n",
        "import numpy as np\n",
        "import cv2\n",
        "import matplotlib.pyplot as plt"
      ],
      "execution_count": null,
      "outputs": []
    },
    {
      "cell_type": "code",
      "metadata": {
        "id": "2kR-KBhyan8G"
      },
      "source": [
        "directory = '/content/drive/MyDrive/CovCT/images'\n",
        "filename = '137covid_patient15_SR_2_IM00016.tif'\n",
        "image = cv2.imread(os.path.join(directory, filename),-1)\n",
        "img_scaled = cv2.normalize(image, dst=None, alpha=0, beta=135535, norm_type=cv2.NORM_MINMAX)\n",
        "cv2.imwrite('test.png',img_scaled/255)"
      ],
      "execution_count": null,
      "outputs": []
    },
    {
      "cell_type": "code",
      "metadata": {
        "id": "NxwFH3F2LawJ"
      },
      "source": [
        "#Making the directory CSV_PNG\n",
        "!mkdir '/content/drive/MyDrive/CovCT/CSV_PNG'"
      ],
      "execution_count": null,
      "outputs": []
    },
    {
      "cell_type": "code",
      "metadata": {
        "id": "g8HhY2PqSHsw"
      },
      "source": [
        "#Making the directory images_PNG\n",
        "!mkdir '/content/drive/MyDrive/CovCT/images_PNG'"
      ],
      "execution_count": null,
      "outputs": []
    },
    {
      "cell_type": "code",
      "metadata": {
        "id": "fzMrTnpvIpFW"
      },
      "source": [
        "#Here the convertion takesplace\n",
        "# Run this code for every modeule CSV File\n",
        "df_test = pd.read_csv('/content/drive/MyDrive/CovCT/CSV/test5.csv')\n",
        "df_train = pd.read_csv('/content/drive/MyDrive/CovCT/CSV/train5.csv')\n",
        "df_val = pd.read_csv('/content/drive/MyDrive/CovCT/CSV/validation5.csv')\n",
        "\n",
        "test = df_test.replace({'.tif': '.png'}, regex=True)\n",
        "train = df_train.replace({'.tif': '.png'}, regex=True)\n",
        "val = df_val.replace({'.tif':'.png'}, regex=True)\n",
        "\n",
        "#Saving to another directory named CSV_PNG\n",
        "test.to_csv('/content/drive/MyDrive/CovCT/CSV_PNG/test5.csv')\n",
        "train.to_csv('/content/drive/MyDrive/CovCT/CSV_PNG/train5.csv')\n",
        "val.to_csv('/content/drive/MyDrive/CovCT/CSV_PNG/val5.csv')"
      ],
      "execution_count": null,
      "outputs": []
    },
    {
      "cell_type": "code",
      "metadata": {
        "id": "oKrTkLGqq6s8"
      },
      "source": [
        "#CSV column to list \n",
        "data = pd.read_csv('/content/drive/MyDrive/CovCT/CSV/train5.csv')\n",
        "images = data.filename.tolist()"
      ],
      "execution_count": null,
      "outputs": []
    },
    {
      "cell_type": "code",
      "metadata": {
        "id": "04o8VXt6MTjZ"
      },
      "source": [
        "#Now convert the images to the PNG format from the raster Tiff form\n",
        "directory = '/content/drive/MyDrive/CovCT/images'\n",
        "new_directory = '/content/drive/MyDrive/CovCT/images_PNG'\n",
        "#counter for process image \n",
        "count = 0\n",
        "for filename in images:\n",
        "  new_filename = filename.replace(\".tif\",\".png\")\n",
        "  #Check if image already exists (In case of failures in between)\n",
        "  if(os.path.exists(os.path.join(new_directory,new_filename))):\n",
        "    count+=1\n",
        "    if(count%50==0):\n",
        "      print(count)\n",
        "  else:\n",
        "    image = cv2.imread(os.path.join(directory, filename),-1)\n",
        "    img_scaled = cv2.normalize(image, dst=None, alpha=0, beta=65535, norm_type=cv2.NORM_MINMAX)\n",
        "    cv2.imwrite(os.path.join(new_directory,new_filename),img_scaled/255)\n",
        "    count+=1\n",
        "    if(count%50==0):\n",
        "      print(count)"
      ],
      "execution_count": null,
      "outputs": []
    },
    {
      "cell_type": "markdown",
      "metadata": {
        "id": "kI0MRLpiY45G"
      },
      "source": [
        "The model training part starts from **here**. \n",
        "\n",
        "\n",
        "*   The preparation of the data pipelines\n",
        "*   Feeding data pipelines to the efficientNet\n",
        "\n"
      ]
    },
    {
      "cell_type": "code",
      "metadata": {
        "id": "DWX-ukQ85Sw-"
      },
      "source": [
        "#all the imports go here\n",
        "import keras\n",
        "from keras import optimizers\n",
        "from keras.models import Sequential,Model\n",
        "from keras.layers import Dropout, Flatten, Dense,Input, GlobalAveragePooling2D\n",
        "from keras.applications.efficientnet import EfficientNetB0 as Net\n",
        "from keras.callbacks import ModelCheckpoint, EarlyStopping, ReduceLROnPlateau\n",
        "from keras import backend as K\n",
        "from keras.preprocessing.image import ImageDataGenerator\n",
        "from keras.initializers import RandomNormal\n",
        "import keras.backend as k\n",
        "from sklearn.utils import shuffle\n",
        "from sklearn.utils import shuffle\n",
        "import csv\n",
        "import matplotlib.pyplot as plt"
      ],
      "execution_count": null,
      "outputs": []
    },
    {
      "cell_type": "markdown",
      "metadata": {
        "id": "HfLaNL09CKLY"
      },
      "source": [
        "Preparing the data Generators."
      ]
    },
    {
      "cell_type": "code",
      "metadata": {
        "id": "DV3kb_1VZI_M"
      },
      "source": [
        "#Here we set the data generators for applying data augmentation methods\n",
        "train_datagen = ImageDataGenerator(horizontal_flip=True,zoom_range=0.05,rotation_range=360,width_shift_range=0.05,height_shift_range=0.05,shear_range=0.05)\n",
        "test_datagen = ImageDataGenerator()\n",
        "train_df1 =pd.read_csv('/content/drive/MyDrive/CovCT/CSV_PNG/train{}.csv'.format(1)) #raed train csv file\n",
        "train_df2 =pd.read_csv('/content/drive/MyDrive/CovCT/CSV_PNG/train{}.csv'.format(2)) #raed train csv file\n",
        "train_df3 =pd.read_csv('/content/drive/MyDrive/CovCT/CSV_PNG/train{}.csv'.format(3)) #raed train csv file\n",
        "train_df4 =pd.read_csv('/content/drive/MyDrive/CovCT/CSV_PNG/train{}.csv'.format(4)) #raed train csv file\n",
        "train_df5 =pd.read_csv('/content/drive/MyDrive/CovCT/CSV_PNG/train{}.csv'.format(5)) #raed train csv file\n",
        "\n",
        "train_df = pd.concat([train_df1,train_df2,train_df3, train_df4, train_df5])\n",
        "train_df = shuffle(train_df) #Shuffle the train data\n",
        "\n",
        "\n",
        "validation_df1 = pd.read_csv('/content/drive/MyDrive/CovCT/CSV_PNG/val{}.csv'.format(1)) #raed validation csv file (Validation in the training process)\n",
        "validation_df2 = pd.read_csv('/content/drive/MyDrive/CovCT/CSV_PNG/val{}.csv'.format(2))\n",
        "validation_df3 = pd.read_csv('/content/drive/MyDrive/CovCT/CSV_PNG/val{}.csv'.format(3))\n",
        "validation_df4 = pd.read_csv('/content/drive/MyDrive/CovCT/CSV_PNG/val{}.csv'.format(4))\n",
        "validation_df5 = pd.read_csv('/content/drive/MyDrive/CovCT/CSV_PNG/val{}.csv'.format(5))\n",
        "\n",
        "validation_df = pd.concat([validation_df1,validation_df2,validation_df3, validation_df4,validation_df5])\n",
        "\n",
        "\n",
        "test_df1 = pd.read_csv('/content/drive/MyDrive/CovCT/CSV_PNG/test{}.csv'.format(1))\n",
        "#raed test csv file (For evaluating the final version of the trained network)\n",
        "test_df2 = pd.read_csv('/content/drive/MyDrive/CovCT/CSV_PNG/test{}.csv'.format(2))\n",
        "test_df3 = pd.read_csv('/content/drive/MyDrive/CovCT/CSV_PNG/test{}.csv'.format(3))\n",
        "test_df4 = pd.read_csv('/content/drive/MyDrive/CovCT/CSV_PNG/test{}.csv'.format(4))\n",
        "test_df5 = pd.read_csv('/content/drive/MyDrive/CovCT/CSV_PNG/test{}.csv'.format(5))\n",
        "\n",
        "\n",
        "test_df = pd.concat([test_df1,test_df2,test_df3, test_df4, test_df5])\n",
        "main_df = pd.concat([train_df,validation_df,test_df])\n",
        "#main_df.to_csv('main.csv')"
      ],
      "execution_count": null,
      "outputs": []
    },
    {
      "cell_type": "code",
      "metadata": {
        "id": "Yf8U9BoSa1yQ"
      },
      "source": [
        "shape=(512,512,1) #shape of the dataset images (in PNG format)"
      ],
      "execution_count": null,
      "outputs": []
    },
    {
      "cell_type": "code",
      "metadata": {
        "id": "OPbbKldNabRc"
      },
      "source": [
        "#Create the generators\n",
        "\n",
        "validation_generator = test_datagen.flow_from_dataframe(\n",
        "        dataframe=validation_df,\n",
        "        directory='/content/drive/MyDrive/CovCT/images_PNG',\n",
        "        x_col=\"filename\",\n",
        "        y_col=\"class\",\n",
        "        target_size=shape[:2],\n",
        "        batch_size=10,\n",
        "        class_mode='categorical',color_mode=\"grayscale\",shuffle=True)\n"
      ],
      "execution_count": null,
      "outputs": []
    },
    {
      "cell_type": "markdown",
      "metadata": {
        "id": "3deMMZDYCOEK"
      },
      "source": [
        "Deciding the architecture"
      ]
    },
    {
      "cell_type": "code",
      "metadata": {
        "id": "xi4qOnZHyq7P"
      },
      "source": [
        "#New type raining of model\n",
        "#Training the model \n",
        "# The model produces separate layers and also doesn't include the efficient net as a one Layer\n",
        "input_tensor=Input(shape=shape)\n",
        "\n",
        "#Load EfficientNetB1 ImageNet pre-trained weights\n",
        "weight_model = Net(weights='imagenet', include_top=False) \n",
        "#Save the weights\n",
        "weight_model.save_weights('weights_eff.h5') \n",
        "#Load the EfficientnetB1 model without weights\n",
        "base_model = Net(weights=None, include_top=False, input_tensor=input_tensor) \n",
        "#Load the ImageNet weights on the ResNet50V2 model except the first layer(because the first layer has one channel in our case)\n",
        "base_model.load_weights('weights_eff.h5',skip_mismatch=True, by_name=True) \n",
        "x = GlobalAveragePooling2D()(base_model.output)\n",
        "x = Dropout(0.3)(x)\n",
        "x = Dense(2, activation='softmax')(x)\n",
        "model = Model(inputs=input_tensor , outputs=x)"
      ],
      "execution_count": null,
      "outputs": []
    },
    {
      "cell_type": "code",
      "metadata": {
        "id": "xjS8tEPu8CzV"
      },
      "source": [
        "#setting teh training parametrs\n",
        "\n",
        "for layer in model.layers:\n",
        "  layer.trainable = True\n",
        "#DECIDING THE CALLBACKS\n",
        "optimizer=optimizers.Nadam(learning_rate=0.0001)\n",
        "\n",
        "#early stopping to monitor the validation loss and avoid overfitting\n",
        "early_stop = EarlyStopping(monitor='val_loss', mode='min', verbose=1, patience=5, restore_best_weights=True)\n",
        "\n",
        "#reducing learning rate on plateau\n",
        "rlrop = ReduceLROnPlateau(monitor='val_loss', mode='min', patience= 3, factor= 0.2, min_lr= 1e-6, verbose=1)#model compiling\n",
        "\n",
        "ModelCheck = ModelCheckpoint('/content/drive/MyDrive/CovCT/models5/model_five_fold-{epoch:02d}-{val_accuracy:.4f}.hdf5',\n",
        "                             monitor='val_accuracy',\n",
        "                             mode='max',\n",
        "                             save_best_only=True,\n",
        "                             verbose=1)\n",
        "\n",
        "model.compile(optimizer=optimizer, loss='categorical_crossentropy', metrics=['accuracy'])\n",
        "\n"
      ],
      "execution_count": null,
      "outputs": []
    },
    {
      "cell_type": "code",
      "metadata": {
        "id": "THjr-Zr19et5"
      },
      "source": [
        "#Start the training\n",
        "callbacks_list = [early_stop, rlrop, ModelCheck]\n",
        "model.fit_generator(train_generator, epochs=20,validation_data=test_generator,shuffle=True,callbacks=callbacks_list)"
      ],
      "execution_count": null,
      "outputs": []
    },
    {
      "cell_type": "code",
      "metadata": {
        "id": "hGHHErNF9Yin"
      },
      "source": [
        "\n"
      ],
      "execution_count": null,
      "outputs": []
    },
    {
      "cell_type": "code",
      "metadata": {
        "id": "f3rIYsV1PUhw"
      },
      "source": [
        "\n",
        "directory = '/content/drive/MyDrive/CovCT/images'\n",
        "def heat_concat(img,data, img_name):\n",
        "  new_filename = img_name.replace(\".png\",\".tif\")\n",
        "  image_raw = cv2.imread(os.path.join(directory, new_filename),-1)\n",
        "  img_scaled = cv2.normalize(image_raw, dst=None, alpha=0, beta=120535, norm_type=cv2.NORM_MINMAX)\n",
        "  cv2.imwrite('sample.png',img_scaled/255)\n",
        "  img_scaled=cv2.imread('sample.png')\n",
        "  cam = ScoreCam(net,model2,data,40)\n",
        "  img11 = cv2.cvtColor(img,cv2.COLOR_GRAY2BGR)\n",
        "  heatmap, imposed_heatmap = save_and_display_gradcam(img_scaled, cam)\n",
        "  print(img11.dtype)\n",
        "  concat1 = cv2.hconcat([img_scaled,heatmap])\n",
        "  concat2 = cv2.hconcat([concat1,imposed_heatmap])\n",
        "  return concat2"
      ],
      "execution_count": null,
      "outputs": []
    },
    {
      "cell_type": "code",
      "metadata": {
        "id": "6thXOmIurOZz"
      },
      "source": [
        "#Model Evaluation\n",
        "state = 1\n",
        "trained_models=[]\n",
        "for r,d,f in os.walk('/content/drive/MyDrive/CovCT/models5/'): #Take the path to the trained nets \n",
        "  for file in f:\n",
        "    if '.hdf5' in file:\n",
        "      trained_models.append(os.path.join(r,file))\n",
        "print(len(trained_models))\n",
        "reports=[]\n",
        "for trn_model in trained_models: #evaluate the network on each trained net\n",
        "  k.clear_session()\n",
        "  netpath=trn_model \n",
        "  model_name=trn_model\n",
        "  print(trn_model)\n",
        "  #fold_num=trn_model[trn_model.index('fold')+4] #find the fold number\n",
        "  net=keras.models.load_model(netpath) #load model\n",
        "  covid_label= validation_generator.class_indices['covid'] #get the index of COVID-19 class \n",
        "  normal_label= validation_generator.class_indices['normal']  #get the index of normal class\n",
        "  print(normal_label) \n",
        "  tp=0 #True Positives\n",
        "  fp=0 #False Positives\n",
        "  anum=0 #All the images numbers\n",
        "  tn=0\n",
        "  fn=0\n",
        "  ###########\n",
        "  ctp=0 #Correct classified COVID-19 cases\n",
        "  cfp=0 #Wrong classified COVID-19 cases\n",
        "  cfn=0 #Not classified COVID-19 cases\n",
        "  ctn=0 #Correctly not classified COVID-19 cases\n",
        "  cnum=0 #Number of COVID cases\n",
        "  ################\n",
        "  ntp=0 #Correct classified normal cases\n",
        "  nfp=0 #Wrong classified normal cases\n",
        "  nfn=0 #Not classified normal cases\n",
        "  ntn=0 #Correctly not classified normal cases\n",
        "  nnum=0 #Number of normal cases\n",
        "  i=0\n",
        "  predictions=np.zeros((4532,2))\n",
        "  for num,img_name in enumerate(validation_generator.filenames): #load image\n",
        "    gt_ind=validation_generator.classes[num] #get the loaded image class index\n",
        "    img=cv2.imread(os.path.join('/content/drive/MyDrive/CovCT/images_PNG',img_name),cv2.IMREAD_GRAYSCALE) #load image\n",
        "    data = np.reshape(img,(1,512,512,1))\n",
        "    gap = net.predict(data)\n",
        "    predictions[num] = gap\n",
        "    if(num%50==0):\n",
        "      print(num)\n",
        "    continue\n",
        "    pred_ind=np.argmax(net.predict(data)[0]) #get the predicted class index\n",
        "    anum+=1 #count the number of images\n",
        "    #if(anum==1000):\n",
        "    # break\n",
        "    if(anum%500==0):\n",
        "      print(anum)\n",
        "    if gt_ind==covid_label:\n",
        "      cnum+=1\n",
        "      if pred_ind==covid_label:\n",
        "        concatenated_image = heat_concat(img,data,img_name)\n",
        "        name = \"/content/drive/MyDrive/CovCT/results_concatenated/\"+img_name\n",
        "        cv2.imwrite(name,concatenated_image)\n",
        "        tp+=1\n",
        "        if(tp%20==0):\n",
        "          print(tp)\n",
        "        if(tp==1000):\n",
        "          break\n",
        "        #ctp+=1\n",
        "        #ntn+=1\n",
        "      else:\n",
        "        fn+=1\n",
        "        #nfp+=1\n",
        "        #cfn+=1\n",
        "    elif gt_ind==normal_label:\n",
        "      nnum+=1\n",
        "      if pred_ind==normal_label:\n",
        "        #ctn+=1\n",
        "        #ntp+=1\n",
        "        #tp+=1\n",
        "        tn+=1\n",
        "      else:\n",
        "        fp+=1\n",
        "        #cfp+=1\n",
        "        #nfn+=1\n",
        "\n",
        "  #overall_acc=tp/(tp+fp) #overall accuracy\n",
        "  #cacc=(ctp+ctn)/(ctp+ctn+cfp+cfn) #covid accurayc\n",
        "  #nacc=(ntp+ntn)/(ntp+ntn+nfp+nfn) #normal accuracy\n",
        "  #csens=ctp/(ctp+cfn) #covid sensitivity\n",
        "  #nsens=ntp/(ntp+nfn) #normal sensitivity\n",
        "  #cspec=ctn/(ctn+cfp) #covid specificity\n",
        "  #nspec=ntn/(ntn+nfp) #normal specificity\n",
        "  #cprec=ctp/(ctp+cfp) #covid precision\n",
        "  #nprec=ntp/(ntp+nfp) #normal precision\n",
        "\n",
        "  #precision = tp/(tp+fp)\n",
        "  #senstivity = tp/(tp+fn)\n",
        "  #specificity = tn/(tn+fp)\n",
        "  #accuracy = (tp+tn)/(tp+tn+fp+fn)\n",
        "\n",
        "  #reports.append([model_name,tp,fp,ctp,cfn,cfp,ntp,nfn,nfp,overall_acc,cacc,nacc,csens,nsens,cspec,nspec,cprec,nprec])\n",
        "  #reports.append([model_name,tp,tn,fp,fn,precision,senstivity,specificity,accuracy])\n",
        "  #print(model_name)\n",
        "  #print(\"tp:{} fp:{} tn:{} fn:{}\".format(tp,fp,tn,fn))\n",
        "\n",
        "#with open('FPN_train.csv', mode='w',newline='') as csv_file:\n",
        "  #csvwriter = csv.writer(csv_file, delimiter=',', quotechar='\"',quoting=csv.QUOTE_MINIMAL)\n",
        "  #csvwriter.writerow(['model_name','True Posiitve','True Negative','False postive','False Negative','cfp','ntp','nfn','nfp','overall_acc','cacc','nacc','csens','nsens','cspec','nspec','cprec','nprec'])\n",
        "  #csvwriter.writerow(['model_name','True_Posiitve','True_Negative','False_postive','False_Negative','precision','senstivity','specificity','accuracy'])\n",
        "  #for row in reports:\n",
        "    #csvwriter.writerow(row)"
      ],
      "execution_count": null,
      "outputs": []
    },
    {
      "cell_type": "code",
      "metadata": {
        "colab": {
          "base_uri": "https://localhost:8080/"
        },
        "id": "yF1XRL958cg0",
        "outputId": "eb37dcf5-b88f-4db8-d0e3-07b7455afb9e"
      },
      "source": [
        "from sklearn.metrics import classification_report\n",
        "classes_from_gen = validation_generator.classes\n",
        "print(len(classes_from_gen))\n",
        "pred = np.zeros((4532))\n",
        "for i in range(4532):\n",
        "  if(predictions[i][0]>0.5):\n",
        "    pred[i] = 0\n",
        "  else:\n",
        "    pred[i] = 1\n",
        "report = classification_report(classes_from_gen, pred)\n",
        "print(report)"
      ],
      "execution_count": null,
      "outputs": [
        {
          "output_type": "stream",
          "name": "stdout",
          "text": [
            "              precision    recall  f1-score   support\n",
            "\n",
            "           0       0.99      1.00      1.00      2282\n",
            "           1       1.00      0.99      1.00      2250\n",
            "\n",
            "    accuracy                           1.00      4532\n",
            "   macro avg       1.00      1.00      1.00      4532\n",
            "weighted avg       1.00      1.00      1.00      4532\n",
            "\n"
          ]
        }
      ]
    },
    {
      "cell_type": "code",
      "metadata": {
        "colab": {
          "base_uri": "https://localhost:8080/",
          "height": 365
        },
        "id": "rUQUyYHx8gdo",
        "outputId": "24b6117f-0052-4864-d7a6-9efd1b2093be"
      },
      "source": [
        "import seaborn as sns\n",
        "from sklearn.metrics import confusion_matrix\n",
        "\n",
        "conf_mat = confusion_matrix(classes_from_gen, pred)\n",
        "fig, ax = plt.subplots(figsize=(6,5))\n",
        "sns.heatmap(conf_mat, annot=True, cmap=\"Blues\", fmt='d')\n",
        "plt.ylabel('Actual')\n",
        "plt.xlabel('Predicted')\n",
        "plt.title(\"CONFUSION MATRIX - Linear SVC\\n\", size=12);\n",
        "plt.savefig('confudion.png')"
      ],
      "execution_count": null,
      "outputs": [
        {
          "output_type": "display_data",
          "data": {
            "image/png": "[encoded data removed]",
            "text/plain": [
              "<Figure size 432x360 with 2 Axes>"
            ]
          },
          "metadata": {
            "needs_background": "light"
          }
        }
      ]
    },
    {
      "cell_type": "code",
      "metadata": {
        "colab": {
          "base_uri": "https://localhost:8080/",
          "height": 590
        },
        "id": "e-1lFuxu2Leh",
        "outputId": "1d64e80c-b9b9-4e7c-ea26-46a56ac8e6e8"
      },
      "source": [
        "#Generating teh ROC and AUC cruve\n",
        "from sklearn.metrics import roc_curve\n",
        "from sklearn.metrics import auc\n",
        "classes_from_gen = validation_generator.classes\n",
        "fpr_keras, tpr_keras, thresholds_keras = roc_curve(classes_from_gen, predictions[:,1])\n",
        "auc_keras = auc(fpr_keras, tpr_keras)\n",
        "plt.figure(1)\n",
        "print(auc_keras)\n",
        "plt.plot([0, 1], [0, 1], 'k--')\n",
        "plt.plot(fpr_keras, tpr_keras, label='Keras (area = {:.5f})'.format(auc_keras))\n",
        "plt.xlabel('False positive rate')\n",
        "plt.ylabel('True positive rate')\n",
        "plt.title('ROC curve')\n",
        "plt.legend(loc='best')\n",
        "plt.savefig('roc.png')\n",
        "\n",
        "plt.show()\n",
        "# Zoom in view of the upper left corner.\n",
        "plt.figure(2)\n",
        "plt.xlim(-0.002, 0.12)\n",
        "plt.ylim(0.95, 1)\n",
        "plt.plot([0, 1], [0, 1], 'k--')\n",
        "plt.plot(fpr_keras, tpr_keras, label='Keras (area = {:.5f})'.format(auc_keras))\n",
        "plt.xlabel('False positive rate')\n",
        "plt.ylabel('True positive rate')\n",
        "plt.title('ROC curve (zoomed in at top left)')\n",
        "plt.legend(loc='best')\n",
        "plt.savefig('roc1.png')\n",
        "plt.show()\n"
      ],
      "execution_count": null,
      "outputs": [
        {
          "output_type": "stream",
          "text": [
            "0.9998486707566462\n"
          ],
          "name": "stdout"
        },
        {
          "output_type": "display_data",
          "data": {
            "image/png": "[encoded data removed]",
            "text/plain": [
              "<Figure size 432x288 with 1 Axes>"
            ]
          },
          "metadata": {
            "needs_background": "light"
          }
        },
        {
          "output_type": "display_data",
          "data": {
            "image/png": "[encoded data removed]",
            "text/plain": [
              "<Figure size 432x288 with 1 Axes>"
            ]
          },
          "metadata": {
            "needs_background": "light"
          }
        }
      ]
    },
    {
      "cell_type": "code",
      "metadata": {
        "colab": {
          "base_uri": "https://localhost:8080/"
        },
        "id": "X_phHXiYJa9F",
        "outputId": "eed23711-dddd-42c6-8922-2a14b48493ac"
      },
      "source": [
        "predictions[0]"
      ],
      "execution_count": null,
      "outputs": [
        {
          "output_type": "execute_result",
          "data": {
            "text/plain": [
              "array([9.99662399e-01, 3.37576581e-04])"
            ]
          },
          "metadata": {},
          "execution_count": 39
        }
      ]
    },
    {
      "cell_type": "code",
      "metadata": {
        "id": "BAPYrYvoyRHx",
        "colab": {
          "base_uri": "https://localhost:8080/",
          "height": 286
        },
        "outputId": "aba7d274-a736-46a8-cc38-d6e6bbb4920b"
      },
      "source": [
        "plt.imshow(data[0,:,:,0])"
      ],
      "execution_count": null,
      "outputs": [
        {
          "output_type": "execute_result",
          "data": {
            "text/plain": [
              "<matplotlib.image.AxesImage at 0x7f879aadf290>"
            ]
          },
          "metadata": {},
          "execution_count": 12
        },
        {
          "output_type": "display_data",
          "data": {
            "image/png": "[encoded data removed]",
            "text/plain": [
              "<Figure size 432x288 with 1 Axes>"
            ]
          },
          "metadata": {
            "needs_background": "light"
          }
        }
      ]
    },
    {
      "cell_type": "code",
      "metadata": {
        "colab": {
          "base_uri": "https://localhost:8080/"
        },
        "id": "L7KZQbQ0wBJ0",
        "outputId": "43066e9f-9277-42e2-d40a-87635ae5b683"
      },
      "source": [
        "model_name = \"aasd\"\n",
        "reports = []\n",
        "tp=2275\n",
        "fp=12\n",
        "tn=2238\n",
        "fn=7\n",
        "precision = tp/(tp+fp)\n",
        "senstivity = tp/(tp+fn)\n",
        "specificity = tn/(tn+fp)\n",
        "accuracy = (tp+way to compare classifiers is to measure the area under the ROC curve, whereas a purelytn)/(tp+tn+fp+fn)\n",
        "f1= tp/(tp+0.5*(fp+fn))\n",
        "#reports.append([model_name,tp,fp,ctp,cfn,cfp,ntp,nfn,nfp,overall_acc,cacc,nacc,csens,nsens,cspec,nspec,cprec,nprec])\n",
        "#reports.append([model_name,tp,tn,fp,fn,precision,senstivity,specificity,accuracy])\n",
        "#print(model_name)\n",
        "print(\"tp:{} fp:{} tn:{} fn:{}\".format(tp,fp,tn,fn))\n",
        "print(\"p{} sens{} spec{} acc{} f1{}\".format(precision,senstivity,specificity,accuracy,f1))\n",
        "#with open('FPN_train.csv', mode='w',newline='') as csv_file:\n",
        "##  csvwriter = csv.writer(csv_file, delimiter=',', quotechar='\"',quoting=csv.QUOTE_MINIMAL)\n",
        "#  #csvwriter.writerow(['model_name','True Posiitve','True Negative','False postive','False Negative','cfp','ntp','nfn','nfp','overall_acc','cacc','nacc','csens','nsens','cspec','nspec','cprec','nprec'])\n",
        "#  csvwriter.writerow(['model_name','True_Posiitve','True_Negative','False_postive','False_Negative','precision','senstivity','specificity','accuracy'])\n",
        "#  for row in reports:\n",
        "#    csvwriter.writerow(row)"
      ],
      "execution_count": null,
      "outputs": [
        {
          "output_type": "stream",
          "text": [
            "tp:2275 fp:12 tn:2238 fn:7\n",
            "p0.994752951464801 sens0.9969325153374233 spec0.9946666666666667 acc0.9958075904677847 f10.9958415408185599\n"
          ],
          "name": "stdout"
        }
      ]
    },
    {
      "cell_type": "code",
      "metadata": {
        "id": "YBPbbUnjEJcD"
      },
      "source": [
        "#tf.keras.models.Model([net.inputs], [conv_layer.output, net.output])\n",
        "model2 = Model(inputs=net.input, outputs=[net.get_layer('block7a_project_conv').output])"
      ],
      "execution_count": null,
      "outputs": []
    },
    {
      "cell_type": "markdown",
      "metadata": {
        "id": "bXFtzgprzZvn"
      },
      "source": [
        "Compress the model using Tflite"
      ]
    },
    {
      "cell_type": "code",
      "metadata": {
        "id": "gNGBsahNzgI9",
        "colab": {
          "base_uri": "https://localhost:8080/"
        },
        "outputId": "aed8646d-f29b-4be1-dfd3-96202301b1c1"
      },
      "source": [
        "import tensorflow as tf\n",
        "#model = keras.models.load_model('/content/drive/MyDrive/CovCT/models5')\n",
        "converter = tf.lite.TFLiteConverter.from_keras_model(net)\n",
        "tflite_model = converter.convert()\n",
        "open(\"/content/drive/MyDrive/CovCT/models5/99_acc.tflite\", \"wb\").write(tflite_model)\n",
        "print(\"Executed\")"
      ],
      "execution_count": null,
      "outputs": [
        {
          "output_type": "stream",
          "text": [
            "/usr/local/lib/python3.7/dist-packages/keras/utils/generic_utils.py:497: CustomMaskWarning: Custom mask layers require a config and must override get_config. When loading, the custom mask layer must be passed to the custom_objects argument.\n",
            "  category=CustomMaskWarning)\n"
          ],
          "name": "stderr"
        },
        {
          "output_type": "stream",
          "text": [
            "INFO:tensorflow:Assets written to: /tmp/tmpukmxoja3/assets\n",
            "Executed\n"
          ],
          "name": "stdout"
        }
      ]
    },
    {
      "cell_type": "markdown",
      "metadata": {
        "id": "YIhV85C45QGm"
      },
      "source": [
        "Checking the use of tensorflow lite model activations\n"
      ]
    },
    {
      "cell_type": "code",
      "metadata": {
        "colab": {
          "base_uri": "https://localhost:8080/"
        },
        "id": "U0hQAsdX5Tgd",
        "outputId": "b33a5397-0f61-4469-9819-7d0404073bed"
      },
      "source": [
        "import tensorflow as tf\n",
        "interpreter = tf.lite.Interpreter(model_path=\"/content/drive/MyDrive/CovCT/models5/only_activations.tflite\")\n",
        "interpreter.allocate_tensors()\n",
        "\n",
        "print(data.shape)\n",
        "data = np.asarray(data,dtype='float32')\n",
        "data = np.reshape(data, (1,512,512,1))\n",
        "\n",
        "# # Get input and output tensors.\n",
        "input_details = interpreter.get_input_details()\n",
        "output_details = interpreter.get_output_details()\n",
        "\n",
        "print(input_details)\n",
        "print(\"--------------------------------------\")\n",
        "print(output_details)\n",
        "interpreter.set_tensor(input_details[0]['index'], data)\n",
        "interpreter.invoke()\n",
        "\n",
        "output = interpreter.get_tensor(output_details[0]['index'])\n",
        "\n",
        "print(output.shape)\n"
      ],
      "execution_count": null,
      "outputs": [
        {
          "output_type": "stream",
          "text": [
            "(1, 512, 512, 1)\n",
            "[{'name': 'input_1', 'index': 0, 'shape': array([  1, 512, 512,   1], dtype=int32), 'shape_signature': array([ -1, 512, 512,   1], dtype=int32), 'dtype': <class 'numpy.float32'>, 'quantization': (0.0, 0), 'quantization_parameters': {'scales': array([], dtype=float32), 'zero_points': array([], dtype=int32), 'quantized_dimension': 0}, 'sparsity_parameters': {}}]\n",
            "--------------------------------------\n",
            "[{'name': 'Identity', 'index': 481, 'shape': array([  1,  16,  16, 320], dtype=int32), 'shape_signature': array([ -1,  16,  16, 320], dtype=int32), 'dtype': <class 'numpy.float32'>, 'quantization': (0.0, 0), 'quantization_parameters': {'scales': array([], dtype=float32), 'zero_points': array([], dtype=int32), 'quantized_dimension': 0}, 'sparsity_parameters': {}}]\n",
            "(1, 16, 16, 320)\n"
          ],
          "name": "stdout"
        }
      ]
    },
    {
      "cell_type": "code",
      "metadata": {
        "id": "qiUBIeiU38sg"
      },
      "source": [
        "for i in range(15):\n",
        "  image = cv2.resize(output[0,:,:,i],(500,500))\n",
        "  plt.imshow(image)\n",
        "  plt.savefig(\"{}.png\".format(i))"
      ],
      "execution_count": null,
      "outputs": []
    },
    {
      "cell_type": "code",
      "metadata": {
        "id": "0vFzwyqA7DeC"
      },
      "source": [
        "print(output)"
      ],
      "execution_count": null,
      "outputs": []
    },
    {
      "cell_type": "code",
      "metadata": {
        "id": "GTqaStw96Xb9",
        "colab": {
          "base_uri": "https://localhost:8080/"
        },
        "outputId": "a1927e1c-e570-40ee-c1d3-ec67ec9d17c5"
      },
      "source": [
        "temp = np.random.randint(0,1000,(1,2,2,4))\n",
        "print(temp)\n",
        "\n",
        "temp = np.moveaxis(temp, -1, 0)\n",
        "print(temp)\n",
        "\n",
        "temp = temp.ravel()\n",
        "print(temp)\n",
        "tt = np.zeros((2,2))\n",
        "for i in range(2):\n",
        "  for j in range(2):\n",
        "    tt[i,j] = temp[(i*2+j)]\n",
        "print(tt)"
      ],
      "execution_count": null,
      "outputs": [
        {
          "output_type": "stream",
          "text": [
            "[[[[961 137 242 970]\n",
            "   [ 70 333 120 620]]\n",
            "\n",
            "  [[545 695 898 824]\n",
            "   [980 675  16 359]]]]\n",
            "[[[[961  70]\n",
            "   [545 980]]]\n",
            "\n",
            "\n",
            " [[[137 333]\n",
            "   [695 675]]]\n",
            "\n",
            "\n",
            " [[[242 120]\n",
            "   [898  16]]]\n",
            "\n",
            "\n",
            " [[[970 620]\n",
            "   [824 359]]]]\n",
            "[961  70 545 980 137 333 695 675 242 120 898  16 970 620 824 359]\n",
            "[[961.  70.]\n",
            " [545. 980.]]\n"
          ],
          "name": "stdout"
        }
      ]
    },
    {
      "cell_type": "code",
      "metadata": {
        "colab": {
          "base_uri": "https://localhost:8080/",
          "height": 282
        },
        "id": "MUETDuh24Qik",
        "outputId": "b1b45f83-e89f-48fe-92eb-1772ca0b4459"
      },
      "source": [
        "temp = np.moveaxis(output, -1, 0)\n",
        "ravelled = temp.ravel()\n",
        "image = np.ones((256))\n",
        "for i in range(16):\n",
        "  for j in range(16):\n",
        "    image[i*16+j] = ravelled[i*16+j];\n",
        "\n",
        "plt.imshow(image.reshape(16,16))"
      ],
      "execution_count": null,
      "outputs": [
        {
          "output_type": "execute_result",
          "data": {
            "text/plain": [
              "<matplotlib.image.AxesImage at 0x7ff8cbfeef90>"
            ]
          },
          "metadata": {
            "tags": []
          },
          "execution_count": 15
        },
        {
          "output_type": "display_data",
          "data": {
            "image/png": "[encoded data removed]",
            "text/plain": [
              "<Figure size 432x288 with 1 Axes>"
            ]
          },
          "metadata": {
            "tags": [],
            "needs_background": "light"
          }
        }
      ]
    },
    {
      "cell_type": "markdown",
      "metadata": {
        "id": "vvEi1pjC-egI"
      },
      "source": [
        "Now here, We have to create saliency maps using trained models\n"
      ]
    },
    {
      "cell_type": "code",
      "metadata": {
        "id": "N_kQ8TXD-key"
      },
      "source": [
        "#Function returning 2D Numpy array (Values 0-1 (Normalized))\n",
        "def ScoreCam(model,model2,img_array, max_N=-1):\n",
        "\n",
        "    cls = 0\n",
        "    act_map_array = model2.predict(img_array)\n",
        "    \n",
        "    # extract effective maps\n",
        "    if max_N != -1:\n",
        "        act_map_std_list = [np.std(act_map_array[0,:,:,k]) for k in range(act_map_array.shape[3])]\n",
        "        unsorted_max_indices = np.argpartition(-np.array(act_map_std_list), max_N)[:max_N]\n",
        "        max_N_indices = unsorted_max_indices[np.argsort(-np.array(act_map_std_list)[unsorted_max_indices])]\n",
        "        act_map_array = act_map_array[:,:,:,max_N_indices]\n",
        "\n",
        "    input_shape = model.layers[0].output_shape[0][1:]  # get input shape\n",
        "    print(input_shape)\n",
        "\n",
        "    # 1. upsample to original input size\n",
        "    act_map_resized_list = [cv2.resize(act_map_array[0,:,:,k], input_shape[:2], interpolation=cv2.INTER_LINEAR) for k in range(act_map_array.shape[3])]\n",
        "    print(\"step 1 done\")\n",
        "    # 2. normalize the raw activation value in each activation map into [0, 1]\n",
        "    act_map_normalized_list = []\n",
        "    for act_map_resized in act_map_resized_list:\n",
        "        if np.max(act_map_resized) - np.min(act_map_resized) != 0:\n",
        "            act_map_normalized = act_map_resized / (np.max(act_map_resized) - np.min(act_map_resized))\n",
        "        else:\n",
        "            act_map_normalized = act_map_resized\n",
        "        act_map_normalized_list.append(act_map_normalized)\n",
        "    print(\"step 2 done\")\n",
        "    # 3. project highlighted area in the activation map to original input space by multiplying the normalized activation map\n",
        "    masked_input_list = []\n",
        "    for act_map_normalized in act_map_normalized_list:\n",
        "        masked_input = np.copy(img_array)\n",
        "        masked_input = masked_input.astype('float32') \n",
        "        masked_input[0,:,:,0] *= act_map_normalized\n",
        "        masked_input_list.append(masked_input)\n",
        "    print(\"step 3 done\")\n",
        "    masked_input_array = np.concatenate(masked_input_list, axis=0)\n",
        "    # 4. feed masked inputs into CNN model and softmax\n",
        "    print(masked_input_array.shape)\n",
        "    pred_from_masked_input_array = softmax(model.predict(masked_input_array))\n",
        "    print(\"step 4 done\")\n",
        "    # 5. define weight as the score of target class\n",
        "    weights = pred_from_masked_input_array[:,cls]\n",
        "    print(weights.shape)\n",
        "    print(\"step 5 done\")\n",
        "    # 6. get final class discriminative localization map as linear weighted combination of all activation maps\n",
        "    cam = np.dot(act_map_array[0,:,:,:], weights)\n",
        "    print(cam.shape)\n",
        "    cam = np.maximum(0, cam)  # Passing through ReLU\n",
        "    print(\"step 6 done\")\n",
        "    cam /= np.max(cam)  # scale 0 to 1.0\n",
        "    cam= cv2.resize(cam,(512,512))\n",
        "    return cam\n",
        "\n",
        "def softmax(x):\n",
        "    f = np.exp(x)/np.sum(np.exp(x), axis = 1, keepdims = True)\n",
        "    return f"
      ],
      "execution_count": null,
      "outputs": []
    },
    {
      "cell_type": "code",
      "metadata": {
        "id": "KvLNsXkU4ddF",
        "colab": {
          "base_uri": "https://localhost:8080/",
          "height": 460
        },
        "outputId": "234258bb-3d3d-46aa-f642-9f849cf35cda"
      },
      "source": [
        "cam = ScoreCam(net,model2,data,40)\n",
        "plt.imshow(cam)"
      ],
      "execution_count": null,
      "outputs": [
        {
          "output_type": "stream",
          "name": "stdout",
          "text": [
            "(512, 512, 1)\n",
            "step 1 done\n",
            "step 2 done\n",
            "step 3 done\n",
            "(40, 512, 512, 1)\n",
            "step 4 done\n",
            "(40,)\n",
            "step 5 done\n",
            "(16, 16)\n",
            "step 6 done\n"
          ]
        },
        {
          "output_type": "execute_result",
          "data": {
            "text/plain": [
              "<matplotlib.image.AxesImage at 0x7f8ec6aaf650>"
            ]
          },
          "metadata": {},
          "execution_count": 18
        },
        {
          "output_type": "display_data",
          "data": {
            "image/png": "[encoded data removed]",
            "text/plain": [
              "<Figure size 432x288 with 1 Axes>"
            ]
          },
          "metadata": {
            "needs_background": "light"
          }
        }
      ]
    },
    {
      "cell_type": "code",
      "metadata": {
        "id": "v06JP9WZoBcn"
      },
      "source": [
        "cam = cv2.resize(cam,(512,512))\n",
        "cv2.imwrite('cam.png',cam)"
      ],
      "execution_count": null,
      "outputs": []
    },
    {
      "cell_type": "code",
      "metadata": {
        "id": "vApq_PriD5eW"
      },
      "source": [
        "#generating heatmap using tensorflow\n",
        "import tensorflow as tf\n",
        "import matplotlib.cm as cm\n",
        "conv_layer = net.get_layer(\"block7a_project_conv\")\n",
        "heatmap_model = tf.keras.models.Model([net.inputs], [conv_layer.output, net.output])\n",
        "\n",
        "# Get gradient of the winner class w.r.t. the output of the (last) conv. layer\n",
        "with tf.GradientTape() as gtape:\n",
        "    conv_output, predictions = heatmap_model(data)\n",
        "    loss = predictions[:, np.argmax(predictions[0])]\n",
        "    grads = gtape.gradient(loss, conv_output)\n",
        "    pooled_grads = K.mean(grads, axis=(0, 1, 2))\n",
        "\n",
        "heatmap = tf.reduce_mean(tf.multiply(pooled_grads, conv_output), axis=-1)\n",
        "heatmap = np.maximum(heatmap, 0)\n",
        "max_heat = np.max(heatmap)\n",
        "if max_heat == 0:\n",
        "    max_heat = 1e-10\n",
        "heatmap /= max_heat\n",
        "print(heatmap.shape)\n",
        "#Now the generated heatmap has to move through colourizing procedure\n",
        "# Rescale heatmap to a range 0-255\n",
        "heatmap = np.uint8(255 * heatmap[0])\n",
        "# Use jet colormap to colorize heatmap\n",
        "jet = cm.get_cmap(\"jet\")\n",
        "# Use RGB values of the colormap\n",
        "jet_colors = jet(np.arange(256))[:, :3]\n",
        "jet_heatmap = jet_colors[heatmap]\n",
        "# Create an image with RGB colorized heatmap\n",
        "#jet_heatmap = tf.keras.preprocessing.image.array_to_img(jet_heatmap)\n",
        "\n",
        "print(jet_heatmap.shape)"
      ],
      "execution_count": null,
      "outputs": []
    },
    {
      "cell_type": "code",
      "metadata": {
        "colab": {
          "base_uri": "https://localhost:8080/",
          "height": 282
        },
        "id": "uodOf2KW9Neb",
        "outputId": "eb756282-4edf-4352-feff-78f6a1b9962b"
      },
      "source": [
        "#Showing teh cam\n",
        "plt.imshow(jet_heatmap)"
      ],
      "execution_count": null,
      "outputs": [
        {
          "output_type": "execute_result",
          "data": {
            "text/plain": [
              "<matplotlib.image.AxesImage at 0x7efe0391ac50>"
            ]
          },
          "metadata": {
            "tags": []
          },
          "execution_count": 28
        },
        {
          "output_type": "display_data",
          "data": {
            "image/png": "[encoded data removed]",
            "text/plain": [
              "<Figure size 432x288 with 1 Axes>"
            ]
          },
          "metadata": {
            "tags": [],
            "needs_background": "light"
          }
        }
      ]
    },
    {
      "cell_type": "code",
      "metadata": {
        "id": "N-O3RG8mcrF6"
      },
      "source": [
        "def save_and_display_gradcam(img, heatmap, alpha=0.5):\n",
        "    # Rescale heatmap to a range 0-255\n",
        "    heatmap = np.uint8(255 * heatmap)\n",
        "\n",
        "    # Use jet colormap to colorize heatmap\n",
        "    jet = cm.get_cmap(\"jet\")\n",
        "\n",
        "    # Use RGB values of the colormap\n",
        "    jet_colors = jet(np.arange(256))[:, :3]\n",
        "    jet_heatmap = jet_colors[heatmap]\n",
        "\n",
        "    # Create an image with RGB colorized heatmap\n",
        "    jet_heatmap = keras.preprocessing.image.array_to_img(jet_heatmap)\n",
        "    jet_heatmap = jet_heatmap.resize((img.shape[1], img.shape[0]))\n",
        "    jet_heatmap = keras.preprocessing.image.img_to_array(jet_heatmap)\n",
        "    #cv2.imwrite('heat.jpg',jet_heatmap)\n",
        "    # Superimpose the heatmap on original image\n",
        "    superimposed_img = jet_heatmap * alpha + img *1\n",
        "    superimposed_img = keras.preprocessing.image.array_to_img(superimposed_img)\n",
        "    super_im = keras.preprocessing.image.img_to_array(superimposed_img)\n",
        "    #cv2.imwrite('heat_imposed.jpg',super_im)\n",
        "\n",
        "    # Save the superimposed image\n",
        "\n",
        "    # Display Grad CAM\n",
        "    return jet_heatmap.astype('uint8'), super_im.astype('uint8')"
      ],
      "execution_count": null,
      "outputs": []
    },
    {
      "cell_type": "code",
      "metadata": {
        "id": "qG2ApC4yc2JC",
        "colab": {
          "base_uri": "https://localhost:8080/"
        },
        "outputId": "2cf002c8-7014-4fd3-87ac-7bbafe435c29"
      },
      "source": [
        "import matplotlib.cm as cm\n",
        "img11 = cv2.cvtColor(img,cv2.COLOR_GRAY2BGR)\n",
        "heat, imp = save_and_display_gradcam(img11, cam)\n",
        "cv2.imwrite('heat.png',heat)\n",
        "cv2.imwrite('heat1.png',imp)"
      ],
      "execution_count": null,
      "outputs": [
        {
          "output_type": "execute_result",
          "data": {
            "text/plain": [
              "True"
            ]
          },
          "metadata": {},
          "execution_count": 20
        }
      ]
    }
  ]
}